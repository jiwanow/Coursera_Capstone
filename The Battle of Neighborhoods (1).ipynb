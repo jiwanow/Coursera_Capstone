{
    "cells": [
        {
            "metadata": {
                "collapsed": true
            },
            "cell_type": "markdown",
            "source": "# Capstone Project - The Battle of Neighborhoods (Week 1)"
        },
        {
            "metadata": {},
            "cell_type": "markdown",
            "source": "## The Problem\n\n### The Goal\nFinding a location for the establishment of a restaurant in the city of Innsbruck that can operate successfully during lockdown and afterwards.\n\n### The Challenges\nDue to covid related restrictions, restaurants are currently not allowed to receive guests. Seeing as to how new mutations are cropping up and spreading fast, lockdown restrictions seem unlikely to be lifted anytime soon. \nAdditionally, loosening of restrictions announced by the government will affect only outdoor-dining for the foreseeable future. Space for outdoor tables is, however, strongly limited, as older city parts have rather narrow streets and permissions to set those up are costly. \n\n### The Opportunities\nInnsbruck has long been a university city and tourist center, which the city reflects. Most of the gastronomy is clustered around the center and rent as well as property cost are well above the national average.  \nSince the pandemic and following restrictions, the stream of tourists and connected spontaneous visits of restaurants have ceased. \n\nFood delivery companies working with local restaurants, however, only deliver in a 2km radius from the establishment. \nThus strategical placement in a very populated area with few restaurants might secure a sufficient customer base and might cut the property cost up to two thirds. \n\nAdditionally, initial investment costs will be lowered by not having to acquire tables, chairs, silverware, decoration etc. immediately. "
        },
        {
            "metadata": {},
            "cell_type": "markdown",
            "source": "## The Data\n\nTo find the ideal location, the following data will be collected and analysed.\n\n- data on competitors' locations and popularity (sourced through Foursquare) \n- average rent per squaremeter for non-residential property (from the Austrian Chamber of Commerce)\n- population data (published by the city's civil register)\n\nAdditonally data on bus stops (sourced from google) may be considered.  \n"
        },
        {
            "metadata": {},
            "cell_type": "code",
            "source": "",
            "execution_count": null,
            "outputs": []
        }
    ],
    "metadata": {
        "kernelspec": {
            "name": "python3",
            "display_name": "Python 3.7",
            "language": "python"
        },
        "language_info": {
            "name": "python",
            "version": "3.7.10",
            "mimetype": "text/x-python",
            "codemirror_mode": {
                "name": "ipython",
                "version": 3
            },
            "pygments_lexer": "ipython3",
            "nbconvert_exporter": "python",
            "file_extension": ".py"
        }
    },
    "nbformat": 4,
    "nbformat_minor": 1
}